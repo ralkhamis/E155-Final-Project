{
  "nbformat": 4,
  "nbformat_minor": 0,
  "metadata": {
    "colab": {
      "name": "hw9_Alkhamis.ipynb",
      "provenance": [],
      "collapsed_sections": []
    },
    "kernelspec": {
      "name": "python3",
      "display_name": "Python 3"
    },
    "accelerator": "GPU"
  },
  "cells": [
    {
      "cell_type": "code",
      "metadata": {
        "id": "Orqm1KKvIrzx"
      },
      "source": [
        "from __future__ import print_function\n",
        "from __future__ import division\n",
        "import torch\n",
        "import torch.nn as nn\n",
        "import torch.nn.functional as F\n",
        "import torch.optim as optim\n",
        "import torch.utils\n",
        "import torchvision\n",
        "import torchvision.models as models\n",
        "from torchvision import datasets, models, transforms\n",
        "import numpy as np\n",
        "import matplotlib.pyplot as plt\n",
        "%matplotlib inline\n",
        "import time\n",
        "import os\n",
        "import copy\n",
        "from PIL import ImageFile, Image\n",
        "from skimage.color import lab2rgb, rgb2lab, rgb2gray\n",
        "from skimage import io\n",
        "import os, shutil, time\n",
        "ImageFile.LOAD_TRUNCATED_IMAGES = True\n",
        "import tensorflow as tf\n",
        "import pandas as pd\n",
        "import torchtext\n",
        "import string"
      ],
      "execution_count": null,
      "outputs": []
    },
    {
      "cell_type": "code",
      "metadata": {
        "id": "Dr2R0r8GIyaf",
        "outputId": "6ee43c50-c520-41e5-f010-9f62254ef7c7",
        "colab": {
          "base_uri": "https://localhost:8080/"
        }
      },
      "source": [
        "device = 'cuda:0' if torch.cuda.is_available() else 'cpu'\n",
        "print (device)"
      ],
      "execution_count": null,
      "outputs": [
        {
          "output_type": "stream",
          "text": [
            "cuda:0\n"
          ],
          "name": "stdout"
        }
      ]
    },
    {
      "cell_type": "code",
      "metadata": {
        "id": "CDynFKQtI0Pe",
        "outputId": "adb09edc-77be-408a-9f10-47fd49069b43",
        "colab": {
          "base_uri": "https://localhost:8080/"
        }
      },
      "source": [
        "from google.colab import drive\n",
        "drive.mount('/content/drive')"
      ],
      "execution_count": null,
      "outputs": [
        {
          "output_type": "stream",
          "text": [
            "Mounted at /content/drive\n"
          ],
          "name": "stdout"
        }
      ]
    },
    {
      "cell_type": "markdown",
      "metadata": {
        "id": "tc04OW9CM27y"
      },
      "source": [
        "### Spanish Data Extraction\n"
      ]
    },
    {
      "cell_type": "markdown",
      "metadata": {
        "id": "d1i5V8KOCBAc"
      },
      "source": [
        "I started by reducing the downloaded Spanish data to 50MB locally then uploaded the data into coogle colab. "
      ]
    },
    {
      "cell_type": "code",
      "metadata": {
        "id": "qqLwN8IbuHG_",
        "outputId": "00f20e68-35fd-4fdf-ad60-0b2c1d12bb8b",
        "colab": {
          "resources": {
            "http://localhost:8080/nbextensions/google.colab/files.js": {
              "data": "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",
              "ok": true,
              "headers": [
                [
                  "content-type",
                  "application/javascript"
                ]
              ],
              "status": 200,
              "status_text": ""
            }
          },
          "base_uri": "https://localhost:8080/",
          "height": 72
        }
      },
      "source": [
        "from google.colab import files\n",
        "spanish_dict = files.upload()\n"
      ],
      "execution_count": null,
      "outputs": [
        {
          "output_type": "display_data",
          "data": {
            "text/html": [
              "\n",
              "     <input type=\"file\" id=\"files-3532b823-1fc3-4245-abf6-93afeb8f9200\" name=\"files[]\" multiple disabled\n",
              "        style=\"border:none\" />\n",
              "     <output id=\"result-3532b823-1fc3-4245-abf6-93afeb8f9200\">\n",
              "      Upload widget is only available when the cell has been executed in the\n",
              "      current browser session. Please rerun this cell to enable.\n",
              "      </output>\n",
              "      <script src=\"/nbextensions/google.colab/files.js\"></script> "
            ],
            "text/plain": [
              "<IPython.core.display.HTML object>"
            ]
          },
          "metadata": {
            "tags": []
          }
        },
        {
          "output_type": "stream",
          "text": [
            "Saving xaaSpanish.txt to xaaSpanish.txt\n"
          ],
          "name": "stdout"
        }
      ]
    },
    {
      "cell_type": "markdown",
      "metadata": {
        "id": "Hg9y2WLuCUsW"
      },
      "source": [
        "I decoded the text file using decode() function then  separated each sentence using split() function. "
      ]
    },
    {
      "cell_type": "code",
      "metadata": {
        "id": "MBNt61Ch9oZJ"
      },
      "source": [
        "spanish_list = spanish_dict['xaaSpanish.txt'].decode(\"utf-8\").split(\"\\r\\n\")\n"
      ],
      "execution_count": null,
      "outputs": []
    },
    {
      "cell_type": "markdown",
      "metadata": {
        "id": "RSC3pirDCiop"
      },
      "source": [
        "I created a list of all sentences using splitlines() function.\n"
      ]
    },
    {
      "cell_type": "code",
      "metadata": {
        "id": "JQfNlVRrBkdH"
      },
      "source": [
        "spanish_list_split = spanish_list[0].splitlines()"
      ],
      "execution_count": null,
      "outputs": []
    },
    {
      "cell_type": "code",
      "metadata": {
        "id": "N7xVeVU8BvBA",
        "outputId": "b0922205-b82f-46bb-fb3e-8203e61c54ed",
        "colab": {
          "base_uri": "https://localhost:8080/"
        }
      },
      "source": [
        "spanish_list_split[:10]"
      ],
      "execution_count": null,
      "outputs": [
        {
          "output_type": "execute_result",
          "data": {
            "text/plain": [
              "['En el nombre de Alá el Compasivo el Misericordioso',\n",
              " 'Alabado sea Alá Señor del universo',\n",
              " 'Dueño del día del Juicio',\n",
              " 'A Ti solo servimos y a Ti solo imploramos ayuda',\n",
              " 'Dirígenos por la vía recta',\n",
              " 'la vía de los que Tú has agraciado no de los que han incurrido en la ira ni de los extraviados',\n",
              " 'Ésta es la Escritura exenta de dudas como dirección para los temerosos de Alá',\n",
              " 'que creen en lo oculto hacen la azalá y dan limosna de lo que les hemos proveído',\n",
              " 'creen en lo que se te ha revelado a ti y antes de ti y están convencidos de la otra vida',\n",
              " 'Ésos son los dirigidos por su Señor y ésos los que prosperarán']"
            ]
          },
          "metadata": {
            "tags": []
          },
          "execution_count": 7
        }
      ]
    },
    {
      "cell_type": "markdown",
      "metadata": {
        "id": "hTApehfjX5Cb"
      },
      "source": [
        "### English Data Extraction\n"
      ]
    },
    {
      "cell_type": "code",
      "metadata": {
        "id": "oJxq6z8oX4YJ",
        "outputId": "198fdcb5-b0c8-416c-8429-44015390ba75",
        "colab": {
          "resources": {
            "http://localhost:8080/nbextensions/google.colab/files.js": {
              "data": "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",
              "ok": true,
              "headers": [
                [
                  "content-type",
                  "application/javascript"
                ]
              ],
              "status": 200,
              "status_text": ""
            }
          },
          "base_uri": "https://localhost:8080/",
          "height": 72
        }
      },
      "source": [
        "from google.colab import files\n",
        "English_dict = files.upload()\n"
      ],
      "execution_count": null,
      "outputs": [
        {
          "output_type": "display_data",
          "data": {
            "text/html": [
              "\n",
              "     <input type=\"file\" id=\"files-19330a37-2d2b-44f6-9843-14b4332be0a6\" name=\"files[]\" multiple disabled\n",
              "        style=\"border:none\" />\n",
              "     <output id=\"result-19330a37-2d2b-44f6-9843-14b4332be0a6\">\n",
              "      Upload widget is only available when the cell has been executed in the\n",
              "      current browser session. Please rerun this cell to enable.\n",
              "      </output>\n",
              "      <script src=\"/nbextensions/google.colab/files.js\"></script> "
            ],
            "text/plain": [
              "<IPython.core.display.HTML object>"
            ]
          },
          "metadata": {
            "tags": []
          }
        },
        {
          "output_type": "stream",
          "text": [
            "Saving xaaEnglish.csv to xaaEnglish.csv\n"
          ],
          "name": "stdout"
        }
      ]
    },
    {
      "cell_type": "code",
      "metadata": {
        "id": "K7sHE2T3bL7p",
        "outputId": "9034406c-38e9-4979-86b2-d8f58a9129ed",
        "colab": {
          "base_uri": "https://localhost:8080/"
        }
      },
      "source": [
        "English_dict['xaaEnglish.csv'][:100]"
      ],
      "execution_count": null,
      "outputs": [
        {
          "output_type": "execute_result",
          "data": {
            "text/plain": [
              "b'\" \\r\\n = Polyozellus = \\r\\n \\r\\n Polyozellus is a fungal genus in the family Thelephoraceae , a grouping o'"
            ]
          },
          "metadata": {
            "tags": []
          },
          "execution_count": 9
        }
      ]
    },
    {
      "cell_type": "markdown",
      "metadata": {
        "id": "wIqY9CGqtOy8"
      },
      "source": [
        "Reading csv file using pandas "
      ]
    },
    {
      "cell_type": "code",
      "metadata": {
        "id": "JOAUBuyGeam3"
      },
      "source": [
        "import pandas as pd\n",
        "import io\n",
        "\n",
        "English_data = io.StringIO(English_dict['xaaEnglish.csv'].decode(\"utf8\"))"
      ],
      "execution_count": null,
      "outputs": []
    },
    {
      "cell_type": "code",
      "metadata": {
        "id": "LobHkBS-e4I8",
        "outputId": "f8f0256e-5f3a-45b8-e8b5-db41fe8e97ce",
        "colab": {
          "base_uri": "https://localhost:8080/"
        }
      },
      "source": [
        "Ensligh_data_pd = pd.read_csv(English_data, engine='python', encoding='utf8', error_bad_lines=False)\n"
      ],
      "execution_count": null,
      "outputs": [
        {
          "output_type": "stream",
          "text": [
            "Skipping line 2905: unexpected end of data\n"
          ],
          "name": "stderr"
        }
      ]
    },
    {
      "cell_type": "markdown",
      "metadata": {
        "id": "c_mCNcDStTgl"
      },
      "source": [
        "I converted the pandas data frame to a list, then each item in the list is a sentence "
      ]
    },
    {
      "cell_type": "code",
      "metadata": {
        "id": "oBHdLiWOpQNd",
        "outputId": "d80d7ad9-bfb5-4da4-880a-037d500cff06",
        "colab": {
          "base_uri": "https://localhost:8080/"
        }
      },
      "source": [
        "from itertools import chain\n",
        "English_list = Ensligh_data_pd.values.tolist()\n",
        "English_list = list(chain(*English_list))\n",
        "English_new_list = []\n",
        "print(len(English_list))\n",
        "for each_sentence in English_list:\n",
        "    English_new_list.append(each_sentence.splitlines())\n",
        "print(len(English_new_list))\n",
        "English_new_list = list(chain(*English_new_list))\n",
        "print(len(English_new_list))\n"
      ],
      "execution_count": null,
      "outputs": [
        {
          "output_type": "stream",
          "text": [
            "2903\n",
            "2903\n",
            "174061\n"
          ],
          "name": "stdout"
        }
      ]
    },
    {
      "cell_type": "code",
      "metadata": {
        "id": "IAXwOxs1ZTWu"
      },
      "source": [
        ""
      ],
      "execution_count": null,
      "outputs": []
    },
    {
      "cell_type": "markdown",
      "metadata": {
        "id": "NdM2dJB7TfkU"
      },
      "source": [
        "### Data Preprocessing"
      ]
    },
    {
      "cell_type": "markdown",
      "metadata": {
        "id": "NVBq4ov3C5z6"
      },
      "source": [
        "In data preprocessing, I converted the list of sentences to lower case and removed all punctuations except \".\" so the data only contains alphabet characters, whitespace, and periods. I also determined a set of unique characters ad mapped all characters to integers. "
      ]
    },
    {
      "cell_type": "code",
      "metadata": {
        "id": "GyyZCiLPTey6"
      },
      "source": [
        "def dataPreprocessing(text_list, language = \"Spanish\"):\n",
        "    # join characters and create a set of unique charaters \n",
        "    chars = set(''.join(text_list))\n",
        "    \n",
        "    # create a set of allowed punctuations\n",
        "    if (language == \"Spanish\"):\n",
        "        language_letters = set(['a', 'á', 'b', 'c', 'd', 'e', 'é', 'f', 'g', 'h', 'i', 'í', 'j', 'k', 'l', 'm', 'n', 'ñ','o', 'ó', 'p', 'q', 'r', 's', 't', 'u', 'ú', 'v', 'w', 'x', 'y', 'z'])\n",
        "    elif (language == \"English\"):\n",
        "        language_letters = set(['a', 'b', 'c', 'd', 'e', 'f', 'g', 'h', 'i', 'j', 'k', 'l', 'm', 'n', 'o', 'p', 'q', 'r', 's', 't', 'u', 'v', 'w', 'x', 'y', 'z'])\n",
        "    allowed = {\".\", \" \"}.union(language_letters)\n",
        "\n",
        "    # a new filtered set that romves punctuations if they're not allowed \n",
        "    filtered_chars = set(''.join([letter for letter in chars if letter in allowed]))\n",
        "    filtered_list = []\n",
        "    for sentence in text_list:\n",
        "        lower_sentence = sentence.lower()\n",
        "        new_sentence = \"\".join([letter for letter in lower_sentence if letter in allowed])\n",
        "        filtered_list.append(new_sentence.lower())\n",
        "    # Dictionary to map ints to the characters\n",
        "    int2char = dict(enumerate(filtered_chars))\n",
        "\n",
        "    # Filp dictionary to map chars to ints \n",
        "    char2int = {char: intg for intg, char in int2char.items()}\n",
        "    \n",
        "    return filtered_list, char2int"
      ],
      "execution_count": null,
      "outputs": []
    },
    {
      "cell_type": "code",
      "metadata": {
        "id": "Akt7CSt3WHoq",
        "outputId": "3c53d12d-c19d-4837-b96c-59ba84387934",
        "colab": {
          "base_uri": "https://localhost:8080/"
        }
      },
      "source": [
        "filtered_list_spanish, spanishChar2int = dataPreprocessing(spanish_list_split)\n",
        "print(spanish_list_split[10:20])\n",
        "print(filtered_list_spanish[10:20])\n",
        "len(filtered_list_spanish)"
      ],
      "execution_count": null,
      "outputs": [
        {
          "output_type": "stream",
          "text": [
            "['Da lo mismo que adviertas o no a los infieles no creen', 'Alá ha sellado sus corazones y oídos una venda cubre sus ojos y tendrán un castigo terrible', 'Hay entre los hombres quienes dicen Creemos en Alá y en el último Día pero no creen', 'Tratan de engañar a Alá y a los que creen pero sin darse cuenta sólo se engañan a sí mismos', 'Sus corazones están enfermos y Alá les ha agravado su enfermedad', 'Tendrán un castigo doloroso por haber mentido', 'Cuando se les dice No corrompáis en la tierra dicen Pero si somos reformadores', 'No son ellos en realidad los corruptores', 'Pero no se dan cuenta', 'Cuando se les dice Creed como creen los demás dicen Es que vamos a creer como creen los tontos']\n",
            "['da lo mismo que adviertas o no a los infieles no creen', 'alá ha sellado sus corazones y oídos una venda cubre sus ojos y tendrán un castigo terrible', 'hay entre los hombres quienes dicen creemos en alá y en el último día pero no creen', 'tratan de engañar a alá y a los que creen pero sin darse cuenta sólo se engañan a sí mismos', 'sus corazones están enfermos y alá les ha agravado su enfermedad', 'tendrán un castigo doloroso por haber mentido', 'cuando se les dice no corrompáis en la tierra dicen pero si somos reformadores', 'no son ellos en realidad los corruptores', 'pero no se dan cuenta', 'cuando se les dice creed como creen los demás dicen es que vamos a creer como creen los tontos']\n"
          ],
          "name": "stdout"
        },
        {
          "output_type": "execute_result",
          "data": {
            "text/plain": [
              "306041"
            ]
          },
          "metadata": {
            "tags": []
          },
          "execution_count": 14
        }
      ]
    },
    {
      "cell_type": "code",
      "metadata": {
        "id": "-D7U1BLZEkLF",
        "outputId": "4d2e3421-155f-4e0b-eaa2-44121e66bb00",
        "colab": {
          "base_uri": "https://localhost:8080/"
        }
      },
      "source": [
        "filtered_list_English, englishChar2int = dataPreprocessing(English_new_list, \"English\")\n",
        "print(English_new_list[10:20])\n",
        "print(filtered_list_English[10:20])\n",
        "len(filtered_list_English)"
      ],
      "execution_count": null,
      "outputs": [
        {
          "output_type": "stream",
          "text": [
            "[' The game uses an ad @-@ hoc online multiplayer feature that enables various actions between players , including trading Materia via email . Players can summon a friend to cast magic by filling the \" Materia aid \" meter . Up to three players can team up at any one time . \" Rescue Mode \" is activated if the player is defeated during \" Episode Mode \" , at which point they have the option to restart and lose points , or allow themselves to be imprisoned and wait for other players to rescue them . The player can be rescued while their phone is powered down . ', ' Additions were made after the initial release . In 2006 , a fighting arena dubbed \" Battle Square \" was added . In the \" Battle Square \" , players can either fight other players or AI @-@ controlled enemy units . Victory is determined by which side defeated the other and damage taken during combat . In \" Battle Tournament \" mode , players can choose to use a handicap : the handicap is determined randomly by a materia slot . Two extra difficulty settings were also added , with players able to switch between these and the normal difficulty in the game menu . \" Easy Mode \" was released in 2006 and allows the player to auto @-@ evade incoming attacks and reduce damage taken , while \" Hard Mode \" , released in 2007 and meant for advanced users , increases the damage dealt by enemy attacks . ', ' ', ' = = Synopsis = = ', ' ', ' ', ' = = = Setting and characters = = = ', ' ', ' Before Crisis is set six years prior to the events of Final Fantasy VII . The world on which Before Crisis is set , called \" the Planet \" in @-@ game and \" Gaia \" by game staff , is divided into multiple regions run by a megacorporation called the Shinra Electric Power Company . Shinra uses the energy of the Planet , known as the Lifestream , to power the world , and as such is endangering the Planet and its people . The events of Before Crisis frequently overlap with those of Crisis Core : Final Fantasy VII . The exact setting is shortly after the end of a war between Shinra and the people of Wutai . With Wutai defeated , and the people of the world now dependent on Shinra \\'s energy , the company becomes the dominant economic , military and political power in the world . Rising against them is AVALANCHE , a rebel group who rightly believe that Shinra \\'s energy extraction is slowly killing the planet . ', ' The playable characters and main protagonists are the Turks , a group of covert operatives working for Shinra . The playable characters in @-@ game are eleven new Turks : ten of them are designated by their weapon or fighting style and their gender , while the eleventh is known as Legend ( Male ) . Their true name can be selected by the player . One of the characters , <unk> ( Female ) , later turns up in Crisis Core under the name \" <unk> \" . The Turks are led by Veld , a veteran of the group , and later Tseng , a character who plays an important role in other VII stories . Their primary antagonists all belong to AVALANCHE . The three important AVALANCHE characters are Elfé , the leader of AVALANCHE and Veld \\'s daughter ; Fuhito , a scientist who acts as the planner for the group ; and Shears , AVALANCHE \\'s second @-@ in @-@ command . Multiple characters from VII make appearances either as cameos or supporting characters , such as protagonists Cloud Strife , Tifa Lockhart , Aerith Gainsborough , and Zack Fair ; and originals antagonists Rufus Shinra , son of the company president ; and Sephiroth , a SOLDIER who would go rogue . ']\n",
            "[' the game uses an ad  hoc online multiplayer feature that enables various actions between players  including trading materia via email . players can summon a friend to cast magic by filling the  materia aid  meter . up to three players can team up at any one time .  rescue mode  is activated if the player is defeated during  episode mode   at which point they have the option to restart and lose points  or allow themselves to be imprisoned and wait for other players to rescue them . the player can be rescued while their phone is powered down . ', ' additions were made after the initial release . in   a fighting arena dubbed  battle square  was added . in the  battle square   players can either fight other players or ai  controlled enemy units . victory is determined by which side defeated the other and damage taken during combat . in  battle tournament  mode  players can choose to use a handicap  the handicap is determined randomly by a materia slot . two extra difficulty settings were also added  with players able to switch between these and the normal difficulty in the game menu .  easy mode  was released in  and allows the player to auto  evade incoming attacks and reduce damage taken  while  hard mode   released in  and meant for advanced users  increases the damage dealt by enemy attacks . ', ' ', '   synopsis   ', ' ', ' ', '    setting and characters    ', ' ', ' before crisis is set six years prior to the events of final fantasy vii . the world on which before crisis is set  called  the planet  in  game and  gaia  by game staff  is divided into multiple regions run by a megacorporation called the shinra electric power company . shinra uses the energy of the planet  known as the lifestream  to power the world  and as such is endangering the planet and its people . the events of before crisis frequently overlap with those of crisis core  final fantasy vii . the exact setting is shortly after the end of a war between shinra and the people of wutai . with wutai defeated  and the people of the world now dependent on shinra s energy  the company becomes the dominant economic  military and political power in the world . rising against them is avalanche  a rebel group who rightly believe that shinra s energy extraction is slowly killing the planet . ', ' the playable characters and main protagonists are the turks  a group of covert operatives working for shinra . the playable characters in  game are eleven new turks  ten of them are designated by their weapon or fighting style and their gender  while the eleventh is known as legend  male  . their true name can be selected by the player . one of the characters  unk  female   later turns up in crisis core under the name  unk  . the turks are led by veld  a veteran of the group  and later tseng  a character who plays an important role in other vii stories . their primary antagonists all belong to avalanche . the three important avalanche characters are elf  the leader of avalanche and veld s daughter  fuhito  a scientist who acts as the planner for the group  and shears  avalanche s second  in  command . multiple characters from vii make appearances either as cameos or supporting characters  such as protagonists cloud strife  tifa lockhart  aerith gainsborough  and zack fair  and originals antagonists rufus shinra  son of the company president  and sephiroth  a soldier who would go rogue . ']\n"
          ],
          "name": "stdout"
        },
        {
          "output_type": "execute_result",
          "data": {
            "text/plain": [
              "174061"
            ]
          },
          "metadata": {
            "tags": []
          },
          "execution_count": 15
        }
      ]
    },
    {
      "cell_type": "code",
      "metadata": {
        "id": "FNgd2Gc9Eqa5"
      },
      "source": [
        ""
      ],
      "execution_count": null,
      "outputs": []
    },
    {
      "cell_type": "markdown",
      "metadata": {
        "id": "gvw5a8Fotwd6"
      },
      "source": [
        "### Splitting the Data to Training and Validation Sets\n"
      ]
    },
    {
      "cell_type": "markdown",
      "metadata": {
        "id": "ffqHBtfRt4yK"
      },
      "source": [
        "Note that the Spanish list is larger than the English list"
      ]
    },
    {
      "cell_type": "code",
      "metadata": {
        "id": "U6nhL1dKtpRz",
        "outputId": "a9e655db-f00a-4d73-89e5-798be24743a9",
        "colab": {
          "base_uri": "https://localhost:8080/"
        }
      },
      "source": [
        "min_len = min(len(filtered_list_spanish), len(filtered_list_English))\n",
        "min_len = min_len//40 # I wanted less data because it kept taking all RAM space \n",
        "Spanish_train = filtered_list_spanish[:int(0.7*min_len)]\n",
        "print(len(Spanish_train))\n",
        "Spanish_valid = filtered_list_spanish[int(0.7*min_len):min_len]\n",
        "print(len(Spanish_valid))\n",
        "English_train = filtered_list_English[:int(0.7*min_len)]\n",
        "print(len(English_train))\n",
        "English_valid = filtered_list_English[int(0.7*min_len):min_len]\n",
        "print(len(English_valid))\n"
      ],
      "execution_count": null,
      "outputs": [
        {
          "output_type": "stream",
          "text": [
            "3045\n",
            "1306\n",
            "3045\n",
            "1306\n"
          ],
          "name": "stdout"
        }
      ]
    },
    {
      "cell_type": "markdown",
      "metadata": {
        "id": "IlmLbOoDvW2k"
      },
      "source": [
        "Converting each sentence into a fixed length. Easiest way to do this is to pad the small sentences with whitespace"
      ]
    },
    {
      "cell_type": "code",
      "metadata": {
        "id": "ymzgs-07KFrL"
      },
      "source": [
        "def padding(text_list1, text_list2):\n",
        "    #print(len(max(text_list1, key=len)))\n",
        "    #print(len(max(text_list2, key=len)))\n",
        "    max_len = max(len(max(text_list1, key=len)), len(max(text_list2, key=len)))\n",
        "    #print(max_len)\n",
        "    for i in range(len(text_list1)):\n",
        "      while len(text_list1[i])<max_len:\n",
        "          text_list1[i] += ' '\n",
        "      while len(text_list2[i])<max_len:\n",
        "          text_list2[i] += ' '\n",
        "\n",
        "    return text_list1, text_list2"
      ],
      "execution_count": null,
      "outputs": []
    },
    {
      "cell_type": "code",
      "metadata": {
        "id": "bynhXePQQw2o",
        "outputId": "003ba1ec-d0e2-4603-8a73-fadbce92315e",
        "colab": {
          "base_uri": "https://localhost:8080/"
        }
      },
      "source": [
        "Spanish_train_fix_len, English_train_fix_len = padding(Spanish_train, English_train)\n",
        "print(len(Spanish_train_fix_len))\n"
      ],
      "execution_count": null,
      "outputs": [
        {
          "output_type": "stream",
          "text": [
            "3045\n"
          ],
          "name": "stdout"
        }
      ]
    },
    {
      "cell_type": "code",
      "metadata": {
        "id": "4raD-Gi31w83",
        "outputId": "2e6f323b-f324-4b1d-ab09-8a80a17823f3",
        "colab": {
          "base_uri": "https://localhost:8080/"
        }
      },
      "source": [
        "Spanish_valid_fix_len, English_valid_fix_len = padding(Spanish_valid, English_valid)\n",
        "print(len(Spanish_valid_fix_len))\n"
      ],
      "execution_count": null,
      "outputs": [
        {
          "output_type": "stream",
          "text": [
            "1306\n"
          ],
          "name": "stdout"
        }
      ]
    },
    {
      "cell_type": "code",
      "metadata": {
        "id": "nLKdPyBXPQJc",
        "outputId": "0e5d922c-47b1-4dfe-bc9a-f4fece2c6705",
        "colab": {
          "base_uri": "https://localhost:8080/"
        }
      },
      "source": [
        "type(Spanish_train_fix_len[0])"
      ],
      "execution_count": null,
      "outputs": [
        {
          "output_type": "execute_result",
          "data": {
            "text/plain": [
              "str"
            ]
          },
          "metadata": {
            "tags": []
          },
          "execution_count": 20
        }
      ]
    },
    {
      "cell_type": "markdown",
      "metadata": {
        "id": "zu3DfK-pI66m"
      },
      "source": [
        "Not time to convert the strings to ints "
      ]
    },
    {
      "cell_type": "code",
      "metadata": {
        "id": "voy9iy_vEPRM"
      },
      "source": [
        "def char2int(text, char2intDict):\n",
        "  text_copy = text.copy()\n",
        "  for i in range(len(text_copy)):\n",
        "    text_copy[i] = [char2intDict[character] for character in text_copy[i]] \n",
        "\n",
        "  return text_copy"
      ],
      "execution_count": null,
      "outputs": []
    },
    {
      "cell_type": "code",
      "metadata": {
        "id": "BF9xLHdxIgsN"
      },
      "source": [
        "Spanish_train_int = char2int(Spanish_train_fix_len, spanishChar2int) "
      ],
      "execution_count": null,
      "outputs": []
    },
    {
      "cell_type": "code",
      "metadata": {
        "id": "nZ-hjriJIgJg"
      },
      "source": [
        "English_train_int = char2int(English_train_fix_len, spanishChar2int) \n"
      ],
      "execution_count": null,
      "outputs": []
    },
    {
      "cell_type": "code",
      "metadata": {
        "id": "G7Q1dJRfEPwy"
      },
      "source": [
        "Spanish_valid_int = char2int(Spanish_valid_fix_len, spanishChar2int) "
      ],
      "execution_count": null,
      "outputs": []
    },
    {
      "cell_type": "code",
      "metadata": {
        "id": "_oYc7tR3Ivvz"
      },
      "source": [
        "English_valid_int = char2int(English_valid_fix_len, spanishChar2int) \n"
      ],
      "execution_count": null,
      "outputs": []
    },
    {
      "cell_type": "markdown",
      "metadata": {
        "id": "wOtMlzsyvjlP"
      },
      "source": [
        "I like working with arrays more so I'm gonna do that :) \n"
      ]
    },
    {
      "cell_type": "code",
      "metadata": {
        "id": "WcSNEaXXupGm",
        "outputId": "46afd5c0-d153-40b9-9a79-6fc8fa3d48f1",
        "colab": {
          "base_uri": "https://localhost:8080/"
        }
      },
      "source": [
        "Y_train_spanish = np.zeros((len(Spanish_train_fix_len), 1))\n",
        "print(len(Y_train_spanish))\n",
        "Y_train_english = np.ones((len(English_train_fix_len), 1))\n",
        "print(len(Y_train_english))\n",
        "Y_valid_spanish = np.zeros((len(Spanish_valid_fix_len), 1))\n",
        "Y_valid_english = np.ones((len(English_valid_fix_len), 1)) \n",
        "print(len(Y_valid_english))\n"
      ],
      "execution_count": null,
      "outputs": [
        {
          "output_type": "stream",
          "text": [
            "3045\n",
            "3045\n",
            "1306\n"
          ],
          "name": "stdout"
        }
      ]
    },
    {
      "cell_type": "code",
      "metadata": {
        "id": "blN_MLlf7Ra4",
        "outputId": "7fddf564-832b-4637-93d3-6dc16cd21f18",
        "colab": {
          "base_uri": "https://localhost:8080/",
          "height": 137
        }
      },
      "source": [
        "'''English_train_int_arr = np.array(English_train_fix_len)\n",
        "Spanish_train_int_arr = np.array(Spanish_train_fix_len)\n",
        "train_arr = np.concatenate((English_train_int_arr, Spanish_train_int_arr), axis = 0)\n",
        "Y_trin_arr = np.concatenate((Y_train_english, Y_train_spanish), axis = 0)\n",
        "\n",
        "\n",
        "\n",
        "English_valid_int_arr = np.array(English_valid_fix_len)\n",
        "Spanish_valid_int_arr = np.array(Spanish_valid_fix_len)\n",
        "valid_arr = np.concatenate((English_valid_int_arr, Spanish_valid_int_arr), axis = 0).reshape((2612,1))\n",
        "Y_valid_arr = np.concatenate((Y_valid_english, Y_valid_spanish), axis = 0)\n",
        "print(Y_valid_arr.shape)\n",
        "print(valid_arr.shape)\n",
        "\n",
        "train_set = list(zip(train_arr, Y_trin_arr))\n",
        "valid_set = list(zip(valid_arr, Y_valid_arr))'''"
      ],
      "execution_count": null,
      "outputs": [
        {
          "output_type": "execute_result",
          "data": {
            "application/vnd.google.colaboratory.intrinsic+json": {
              "type": "string"
            },
            "text/plain": [
              "'English_train_int_arr = np.array(English_train_fix_len)\\nSpanish_train_int_arr = np.array(Spanish_train_fix_len)\\ntrain_arr = np.concatenate((English_train_int_arr, Spanish_train_int_arr), axis = 0)\\nY_trin_arr = np.concatenate((Y_train_english, Y_train_spanish), axis = 0)\\n\\n\\n\\nEnglish_valid_int_arr = np.array(English_valid_fix_len)\\nSpanish_valid_int_arr = np.array(Spanish_valid_fix_len)\\nvalid_arr = np.concatenate((English_valid_int_arr, Spanish_valid_int_arr), axis = 0).reshape((2612,1))\\nY_valid_arr = np.concatenate((Y_valid_english, Y_valid_spanish), axis = 0)\\nprint(Y_valid_arr.shape)\\nprint(valid_arr.shape)\\n\\ntrain_set = list(zip(train_arr, Y_trin_arr))\\nvalid_set = list(zip(valid_arr, Y_valid_arr))'"
            ]
          },
          "metadata": {
            "tags": []
          },
          "execution_count": 28
        }
      ]
    },
    {
      "cell_type": "code",
      "metadata": {
        "id": "xoMoRkXRqzrw",
        "outputId": "13a5c83c-7ad9-4a15-8047-4a033aa10d72",
        "colab": {
          "base_uri": "https://localhost:8080/"
        }
      },
      "source": [
        "#.reshape(len(English_train_int),1)\n",
        "English_train_int_arr = np.array(English_train_int)\n",
        "Spanish_train_int_arr = np.array(Spanish_train_int)\n",
        "train_arr = np.concatenate((English_train_int_arr, Spanish_train_int_arr), axis = 0)\n",
        "Y_trin_arr = np.concatenate((Y_train_english, Y_train_spanish), axis = 0)\n",
        "\n",
        "\n",
        "\n",
        "English_valid_int_arr = np.array(English_valid_int)\n",
        "Spanish_valid_int_arr = np.array(Spanish_valid_int)\n",
        "valid_arr = np.concatenate((English_valid_int_arr, Spanish_valid_int_arr), axis = 0)\n",
        "Y_valid_arr = np.concatenate((Y_valid_english, Y_valid_spanish), axis = 0)\n",
        "print(Y_valid_arr.shape)\n",
        "print(valid_arr.shape)\n",
        "\n",
        "train_set = list(zip(train_arr, Y_trin_arr))\n",
        "valid_set = list(zip(valid_arr, Y_valid_arr))\n"
      ],
      "execution_count": null,
      "outputs": [
        {
          "output_type": "stream",
          "text": [
            "(2612, 1)\n",
            "(2612, 2089)\n"
          ],
          "name": "stdout"
        }
      ]
    },
    {
      "cell_type": "code",
      "metadata": {
        "id": "73j1rZ-owUCh",
        "outputId": "aad592c2-906f-42cd-998d-3794a445f1b1",
        "colab": {
          "base_uri": "https://localhost:8080/",
          "height": 103
        }
      },
      "source": [
        "'''Y_train_spanish = [0]*len(Spanish_train_fix_len)\n",
        "Y_train_english = [1]*len(English_train_fix_len)\n",
        "Y_valid_spanish = [0]*len(Spanish_valid_fix_len)\n",
        "Y_valid_english = [1]*len(English_valid_fix_len) \n",
        "\n",
        "joined_Y_train = Y_train_english+Y_train_spanish\n",
        "joined_Y_valid = Y_valid_english+Y_valid_spanish\n",
        "train_set = list(zip(English_train_int+Spanish_train_int, joined_Y_train))\n",
        "valid_set = list(zip(English_valid_int+Spanish_valid_int, joined_Y_valid))'''\n"
      ],
      "execution_count": null,
      "outputs": [
        {
          "output_type": "execute_result",
          "data": {
            "application/vnd.google.colaboratory.intrinsic+json": {
              "type": "string"
            },
            "text/plain": [
              "'Y_train_spanish = [0]*len(Spanish_train_fix_len)\\nY_train_english = [1]*len(English_train_fix_len)\\nY_valid_spanish = [0]*len(Spanish_valid_fix_len)\\nY_valid_english = [1]*len(English_valid_fix_len) \\n\\njoined_Y_train = Y_train_english+Y_train_spanish\\njoined_Y_valid = Y_valid_english+Y_valid_spanish\\ntrain_set = list(zip(English_train_int+Spanish_train_int, joined_Y_train))\\nvalid_set = list(zip(English_valid_int+Spanish_valid_int, joined_Y_valid))'"
            ]
          },
          "metadata": {
            "tags": []
          },
          "execution_count": 36
        }
      ]
    },
    {
      "cell_type": "code",
      "metadata": {
        "id": "2FAtT8le-arf"
      },
      "source": [
        "train_dl = torch.utils.data.DataLoader(train_set, shuffle=True, batch_size = 10)\n",
        "val_dl = torch.utils.data.DataLoader(valid_set, shuffle=True, batch_size = 10)"
      ],
      "execution_count": null,
      "outputs": []
    },
    {
      "cell_type": "code",
      "metadata": {
        "id": "sQCWHd55KBDi"
      },
      "source": [
        "loader_set = dict()\n",
        "loader_set['train'] = train_dl\n",
        "loader_set['val'] = val_dl"
      ],
      "execution_count": null,
      "outputs": []
    },
    {
      "cell_type": "markdown",
      "metadata": {
        "id": "WgDdmKSmx946"
      },
      "source": [
        "### Model\n"
      ]
    },
    {
      "cell_type": "code",
      "metadata": {
        "id": "7HVU29N6yB44"
      },
      "source": [
        "class RNN(nn.Module):\n",
        "    def __init__(self, dict_size = 34, hidden_siz = 4, num_layers = 1): # hidden size is random here \n",
        "        super(RNN, self).__init__()\n",
        "\n",
        "        # Defining some parameters\n",
        "        self.emb = nn.Embedding(num_embeddings = dict_size, embedding_dim = 34) \n",
        "\n",
        "        self.rnn = nn.RNN(input_size = 34, hidden_size = hidden_siz, num_layers = num_layers, batch_first=False)  # hidden_size is random \n",
        "        # Fully connected layer\n",
        "        self.fc = nn.Linear(hidden_siz, 1)\n",
        "    \n",
        "    \n",
        "    def forward(self, input): # input is batch x seq \n",
        "        embeds = self.emb(input)  # batch x seq x features \n",
        "        #print(embeds.size())\n",
        "        embeds_swapped  = torch.transpose(embeds, 0, 1)\n",
        "        #print(embeds_swapped.size())\n",
        "        out_rnn, hidden = self.rnn(embeds_swapped) # rnn out = seqxbatchxhidden\n",
        "        #print(('hidden', hidden.size()))\n",
        "        #print(('out_rnn', out_rnn.size()))\n",
        "        runn_last_out = out_rnn[-1] # batch*hidden\n",
        "        \n",
        "        out = self.fc(runn_last_out)\n",
        "        scores = nn.functional.log_softmax(out, dim = 1)\n",
        "        final_scores = torch.transpose(scores, 0, 1)\n",
        "        #print(scores)\n",
        "        return final_scores\n",
        "    \n",
        "   "
      ],
      "execution_count": null,
      "outputs": []
    },
    {
      "cell_type": "code",
      "metadata": {
        "id": "lyojMcQ6JbdH"
      },
      "source": [
        "model = RNN() #"
      ],
      "execution_count": null,
      "outputs": []
    },
    {
      "cell_type": "code",
      "metadata": {
        "id": "aHDU3LbtJbRv"
      },
      "source": [
        "criterion = nn.CrossEntropyLoss()\n",
        "optimizer = torch.optim.SGD(model.parameters(), lr=0.007, momentum=0.9)"
      ],
      "execution_count": null,
      "outputs": []
    },
    {
      "cell_type": "code",
      "metadata": {
        "id": "UWHujhaa-5go"
      },
      "source": [
        "def train_model(model, dataloaders, criterion, optimizer, num_epochs=25):\n",
        "    since = time.time()\n",
        "    val_acc_history = []\n",
        "    best_acc = 0.0\n",
        "    val_loss_hist = []\n",
        "    train_loss_hist = []\n",
        "\n",
        "    device = torch.device(\"cuda:0\" if torch.cuda.is_available() else \"cpu\")\n",
        "    print(device)\n",
        "    model.to(device)\n",
        "\n",
        "    for epoch in range(num_epochs):\n",
        "        print('Epoch {}/{}'.format(epoch, num_epochs - 1))\n",
        "        print('-' * 10)\n",
        "        # Each epoch has a training and validation phase\n",
        "        for phase in ['train', 'val']:\n",
        "            if phase == 'train':\n",
        "                model.train()  # Set model to training mode\n",
        "            else:\n",
        "                model.eval()   # Set model to evaluate mode\n",
        "            running_loss = 0.0\n",
        "            running_corrects = 0\n",
        "            # Iterate over data.\n",
        "            for inputs, labels in dataloaders[phase]:\n",
        "                inputs = inputs.to(device)\n",
        "                labels = labels.to(device)\n",
        "\n",
        "                # zero the parameter gradients\n",
        "                optimizer.zero_grad()\n",
        "                # forward\n",
        "                # track history if only in train\n",
        "                with torch.set_grad_enabled(phase == 'train'):\n",
        "                    outputs = model(inputs)\n",
        "                    labels2 = torch.transpose(labels, 0, 1)\n",
        "                    target = torch.argmax(labels2, 1)\n",
        "                    _, preds = torch.max(outputs, 1)\n",
        "\n",
        "                    loss = criterion(outputs.float(), target.long())\n",
        "\n",
        "                    #loss = torch.autograd.Variable(loss, requires_grad = True)\n",
        "                   \n",
        "                    # backward + optimize only if in training phase\n",
        "                    if phase == 'train':\n",
        "                        loss.backward()\n",
        "                        optimizer.step()\n",
        "                \n",
        "                # statistics\n",
        "                running_loss += loss.item() * inputs.size(0)\n",
        "                running_corrects += torch.sum(preds == labels.data)\n",
        "            epoch_loss = running_loss / len(dataloaders[phase].dataset)\n",
        "            epoch_acc = running_corrects.double() / len(dataloaders[phase].dataset)\n",
        "            print('{} Loss: {:.10f} Acc: {:.10f}'.format(phase, epoch_loss, epoch_acc))\n",
        "            if phase == 'train':\n",
        "                train_loss_hist.append(epoch_loss)\n",
        "            if phase == 'val':\n",
        "                val_acc_history.append(epoch_acc)\n",
        "                val_loss_hist.append(epoch_loss)\n",
        "                if best_acc < epoch_acc:\n",
        "                    best_acc = max(epoch_acc, best_acc)\n",
        "                    best_model_wts = copy.deepcopy(model.state_dict())\n",
        "\n",
        "        print()\n",
        "\n",
        "    time_elapsed = time.time() - since\n",
        "    print('Training complete in {:.0f}m {:.0f}s'.format(time_elapsed // 60, time_elapsed % 60))\n",
        "    print('Best val Acc: {:4f}'.format(best_acc))\n",
        "    \n",
        "    # load best model weights\n",
        "    model.load_state_dict(best_model_wts)\n",
        "\n",
        "    return model, val_acc_history, train_loss_hist, val_loss_hist"
      ],
      "execution_count": null,
      "outputs": []
    },
    {
      "cell_type": "code",
      "metadata": {
        "id": "OojaaoafJ32w",
        "outputId": "8218a5ac-dbd3-49d9-81b3-b4c413827bf9",
        "colab": {
          "base_uri": "https://localhost:8080/"
        }
      },
      "source": [
        "model, val_acc_history, train_loss_hist, val_loss_hist = train_model(model, loader_set, criterion, optimizer, num_epochs=10)\n"
      ],
      "execution_count": null,
      "outputs": [
        {
          "output_type": "stream",
          "text": [
            "cuda:0\n",
            "Epoch 0/9\n",
            "----------\n",
            "train Loss: 2.3025851250 Acc: 0.0000000000\n",
            "val Loss: 2.3013527835 Acc: 0.0007656968\n",
            "\n",
            "Epoch 1/9\n",
            "----------\n",
            "train Loss: 2.3025851250 Acc: 0.0000000000\n",
            "val Loss: 2.3013527835 Acc: 0.0003828484\n",
            "\n",
            "Epoch 2/9\n",
            "----------\n",
            "train Loss: 2.3025851250 Acc: 0.0000000000\n",
            "val Loss: 2.3013527835 Acc: 0.0007656968\n",
            "\n",
            "Epoch 3/9\n",
            "----------\n",
            "train Loss: 2.3025851250 Acc: 0.0000000000\n",
            "val Loss: 2.3013527835 Acc: 0.0000000000\n",
            "\n",
            "Epoch 4/9\n",
            "----------\n",
            "train Loss: 2.3025851250 Acc: 0.0000000000\n",
            "val Loss: 2.3013527835 Acc: 0.0000000000\n",
            "\n",
            "Epoch 5/9\n",
            "----------\n",
            "train Loss: 2.3025851250 Acc: 0.0000000000\n",
            "val Loss: 2.3013527835 Acc: 0.0000000000\n",
            "\n",
            "Epoch 6/9\n",
            "----------\n",
            "train Loss: 2.3025851250 Acc: 0.0000000000\n",
            "val Loss: 2.3013527835 Acc: 0.0007656968\n",
            "\n",
            "Epoch 7/9\n",
            "----------\n",
            "train Loss: 2.3025851250 Acc: 0.0000000000\n",
            "val Loss: 2.3013527835 Acc: 0.0000000000\n",
            "\n",
            "Epoch 8/9\n",
            "----------\n",
            "train Loss: 2.3025851250 Acc: 0.0000000000\n",
            "val Loss: 2.3013527835 Acc: 0.0003828484\n",
            "\n",
            "Epoch 9/9\n",
            "----------\n",
            "train Loss: 2.3025851250 Acc: 0.0000000000\n",
            "val Loss: 2.3013527835 Acc: 0.0003828484\n",
            "\n",
            "Training complete in 8m 20s\n",
            "Best val Acc: 0.000766\n"
          ],
          "name": "stdout"
        }
      ]
    },
    {
      "cell_type": "markdown",
      "metadata": {
        "id": "ngB21J-iPGCu"
      },
      "source": [
        "I'm not quite sure why I'm getting that the loss chnage is very small. perhapse because my data is bad. By that I mean I padded sentences with empty spaces such that all senteces become fixed length. Additionally, I needed to cut the data samples to less than 3k because otherwise I run out of RAM and colab crashes every 2min"
      ]
    },
    {
      "cell_type": "code",
      "metadata": {
        "id": "RkYrAhqYJ4NI"
      },
      "source": [
        "def plotLoss(train_loss_hist, val_loss_hist):\n",
        "    plt.title(\"Training and Validation loss vs. Number of Training Epochs\")\n",
        "    plt.xlabel(\"Training Epochs\")\n",
        "    plt.ylabel(\"Training and Validation loss\")\n",
        "    plt.plot(range(len(train_loss_hist)),train_loss_hist,range(len(val_loss_hist)), val_loss_hist )\n",
        "    plt.legend(['Training Loss', 'Validation Loss'])\n",
        "    plt.show()"
      ],
      "execution_count": null,
      "outputs": []
    },
    {
      "cell_type": "code",
      "metadata": {
        "id": "zCmYEpbyJ4Ke",
        "outputId": "45a41ac4-47a3-4789-e9ce-91ba2cf9da8a",
        "colab": {
          "base_uri": "https://localhost:8080/",
          "height": 295
        }
      },
      "source": [
        "plotLoss(train_loss_hist, val_loss_hist)"
      ],
      "execution_count": null,
      "outputs": [
        {
          "output_type": "display_data",
          "data": {
            "image/png": "[encoded data removed]",
            "text/plain": [
              "<Figure size 432x288 with 1 Axes>"
            ]
          },
          "metadata": {
            "tags": [],
            "needs_background": "light"
          }
        }
      ]
    },
    {
      "cell_type": "markdown",
      "metadata": {
        "id": "NLupvrO5BfnE"
      },
      "source": [
        "I experimented with the size of the hidden layer. I expected with larger size, more computation and it will take longer to train. It's still not making a change to my results :("
      ]
    },
    {
      "cell_type": "code",
      "metadata": {
        "id": "HCFbreEgEGHn"
      },
      "source": [
        "model2 = RNN(hidden_siz = 18) #\n",
        "criterion = nn.CrossEntropyLoss()\n",
        "optimizer = torch.optim.SGD(model2.parameters(), lr=0.001, momentum=0.9)"
      ],
      "execution_count": null,
      "outputs": []
    },
    {
      "cell_type": "code",
      "metadata": {
        "id": "utSE5jlGEGmi",
        "outputId": "6734d3fb-ac87-41f8-e59f-3bbddc43765d",
        "colab": {
          "base_uri": "https://localhost:8080/"
        }
      },
      "source": [
        "model2, val_acc_history2, train_loss_hist2, val_loss_hist2 = train_model(model2, loader_set, criterion, optimizer, num_epochs=10)\n"
      ],
      "execution_count": null,
      "outputs": [
        {
          "output_type": "stream",
          "text": [
            "cuda:0\n",
            "Epoch 0/9\n",
            "----------\n",
            "train Loss: 2.3025851250 Acc: 0.0000000000\n",
            "val Loss: 2.3013527835 Acc: 0.0003828484\n",
            "\n",
            "Epoch 1/9\n",
            "----------\n",
            "train Loss: 2.3025851250 Acc: 0.0000000000\n",
            "val Loss: 2.3013527835 Acc: 0.0003828484\n",
            "\n",
            "Epoch 2/9\n",
            "----------\n",
            "train Loss: 2.3025851250 Acc: 0.0000000000\n",
            "val Loss: 2.3013527835 Acc: 0.0000000000\n",
            "\n",
            "Epoch 3/9\n",
            "----------\n",
            "train Loss: 2.3025851250 Acc: 0.0000000000\n",
            "val Loss: 2.3013527835 Acc: 0.0007656968\n",
            "\n",
            "Epoch 4/9\n",
            "----------\n",
            "train Loss: 2.3025851250 Acc: 0.0000000000\n",
            "val Loss: 2.3013527835 Acc: 0.0007656968\n",
            "\n",
            "Epoch 5/9\n",
            "----------\n",
            "train Loss: 2.3025851250 Acc: 0.0000000000\n",
            "val Loss: 2.3013527835 Acc: 0.0003828484\n",
            "\n",
            "Epoch 6/9\n",
            "----------\n",
            "train Loss: 2.3025851250 Acc: 0.0000000000\n",
            "val Loss: 2.3013527835 Acc: 0.0007656968\n",
            "\n",
            "Epoch 7/9\n",
            "----------\n",
            "train Loss: 2.3025851250 Acc: 0.0000000000\n",
            "val Loss: 2.3013527835 Acc: 0.0007656968\n",
            "\n",
            "Epoch 8/9\n",
            "----------\n",
            "train Loss: 2.3025851250 Acc: 0.0000000000\n",
            "val Loss: 2.3013527835 Acc: 0.0003828484\n",
            "\n",
            "Epoch 9/9\n",
            "----------\n",
            "train Loss: 2.3025851250 Acc: 0.0000000000\n",
            "val Loss: 2.3013527835 Acc: 0.0003828484\n",
            "\n",
            "Training complete in 8m 14s\n",
            "Best val Acc: 0.000766\n"
          ],
          "name": "stdout"
        }
      ]
    },
    {
      "cell_type": "markdown",
      "metadata": {
        "id": "IThFmC-DDn4R"
      },
      "source": [
        "I also tried changing the number of layers \n"
      ]
    },
    {
      "cell_type": "code",
      "metadata": {
        "id": "0TX1EzGFJ3qS"
      },
      "source": [
        "model3 = RNN(hidden_siz = 18, num_layers=3) #\n",
        "criterion = nn.CrossEntropyLoss()\n",
        "optimizer = torch.optim.SGD(model3.parameters(), lr=0.001, momentum=0.9)"
      ],
      "execution_count": null,
      "outputs": []
    },
    {
      "cell_type": "code",
      "metadata": {
        "id": "BOKDsmDnG3mC",
        "outputId": "75d0b6bb-a343-4b4a-97a7-1df94e981110",
        "colab": {
          "base_uri": "https://localhost:8080/"
        }
      },
      "source": [
        "model3, val_acc_history3, train_loss_hist3, val_loss_hist3 = train_model(model3, loader_set, criterion, optimizer, num_epochs=3)\n"
      ],
      "execution_count": null,
      "outputs": [
        {
          "output_type": "stream",
          "text": [
            "cuda:0\n",
            "Epoch 0/2\n",
            "----------\n",
            "train Loss: 2.3025851250 Acc: 0.0000000000\n",
            "val Loss: 2.3013527835 Acc: 0.0007656968\n",
            "\n",
            "Epoch 1/2\n",
            "----------\n",
            "train Loss: 2.3025851250 Acc: 0.0000000000\n",
            "val Loss: 2.3013527835 Acc: 0.0007656968\n",
            "\n",
            "Epoch 2/2\n",
            "----------\n",
            "train Loss: 2.3025851250 Acc: 0.0000000000\n",
            "val Loss: 2.3013527835 Acc: 0.0007656968\n",
            "\n",
            "Training complete in 7m 7s\n",
            "Best val Acc: 0.000766\n"
          ],
          "name": "stdout"
        }
      ]
    },
    {
      "cell_type": "markdown",
      "metadata": {
        "id": "bl5GI2i0InFC"
      },
      "source": [
        "Even changing the those parameters didn't change the loss or accuracy. My guess is that my data needs to be larger. I really tried to do that but colb crashes even if I increase a little more. I'm sorry :( I also believe that the padded method I used is what is expected for part 2. I just noticed :( "
      ]
    },
    {
      "cell_type": "code",
      "metadata": {
        "id": "bg6Wo-_fNbbS"
      },
      "source": [
        ""
      ],
      "execution_count": null,
      "outputs": []
    },
    {
      "cell_type": "code",
      "metadata": {
        "id": "ISaG_0D9NbX9"
      },
      "source": [
        ""
      ],
      "execution_count": null,
      "outputs": []
    }
  ]
}